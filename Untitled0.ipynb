{
  "nbformat": 4,
  "nbformat_minor": 0,
  "metadata": {
    "colab": {
      "provenance": [],
      "authorship_tag": "ABX9TyM6JW2a52tVEMARy8Bdb7Ml",
      "include_colab_link": true
    },
    "kernelspec": {
      "name": "python3",
      "display_name": "Python 3"
    },
    "language_info": {
      "name": "python"
    }
  },
  "cells": [
    {
      "cell_type": "markdown",
      "metadata": {
        "id": "view-in-github",
        "colab_type": "text"
      },
      "source": [
        "<a href=\"https://colab.research.google.com/github/JuZanelato/JuZanelato/blob/main/Untitled0.ipynb\" target=\"_parent\"><img src=\"https://colab.research.google.com/assets/colab-badge.svg\" alt=\"Open In Colab\"/></a>"
      ]
    },
    {
      "cell_type": "code",
      "execution_count": 19,
      "metadata": {
        "colab": {
          "base_uri": "https://localhost:8080/"
        },
        "id": "x6eSINZsVZhH",
        "outputId": "fc65a639-5824-4754-fedd-8482d71c5a06"
      },
      "outputs": [
        {
          "output_type": "stream",
          "name": "stdout",
          "text": [
            "Helo, World!\n"
          ]
        }
      ],
      "source": [
        "#2.0\n",
        "\n",
        "print(\"Helo, World!\")"
      ]
    },
    {
      "cell_type": "markdown",
      "source": [],
      "metadata": {
        "id": "-MFH5IQwYnno"
      }
    },
    {
      "cell_type": "markdown",
      "source": [
        "2.1\n",
        "\n",
        "**Prompt:** \"Estou usando o google colab para fazer testes básicos, tendo isso em tese, O primeiro comando foi print(\"Hello, World!\"), o que esse código faz e por que ele é considerado o primeiro passo na programação?\"\n",
        "\n",
        "\n",
        "**INTELIGENCIA ARTIFICIAL**\n",
        "-\n",
        "\n",
        "O comando que você rodou\n",
        "\n",
        "print(\"Hello, World!\")\n",
        "\n",
        "\n",
        "faz o seguinte:\n",
        "\n",
        "print(...) é uma função do Python que envia o conteúdo dentro dos parênteses para a saída padrão (no caso do Google Colab, a \"saída padrão\" é a tela logo abaixo da célula de código).\n",
        "\n",
        "\"Hello, World!\" é uma string — um texto delimitado por aspas — que será exibido.\n",
        "\n",
        "Quando você executa, o Python interpreta e mostra exatamente esse texto.\n",
        "\n",
        "O resultado é:\n",
        "\n",
        "Hello, World!\n",
        "\n",
        "Por que esse código é considerado o “primeiro passo” na programação\n",
        "\n",
        "Teste do ambiente — Serve para confirmar que seu ambiente de desenvolvimento (no caso, o Google Colab) está funcionando e que você consegue escrever e rodar código.\n",
        "\n",
        "Familiarização com sintaxe — É um exemplo simples para ver como uma linguagem lida com comandos, parênteses, aspas, etc.\n",
        "\n",
        "Tradição histórica — Desde 1972, quando Brian Kernighan escreveu o primeiro exemplo em C no livro The C Programming Language, programadores usam \"Hello, World!\" como o primeiro programa em praticamente qualquer linguagem. É como um “ritual de boas-vindas” à programação.\n",
        "\n",
        "Zero risco de erro complexo — É tão simples que dificilmente vai gerar erros de lógica, permitindo focar na mecânica de escrever e rodar."
      ],
      "metadata": {
        "id": "oD6GnB-LWam5"
      }
    },
    {
      "cell_type": "markdown",
      "source": [
        "2.2\n",
        "\n",
        "**Prompt:** \"O que são variáveis em Python e como usá-las. Explique de uma forma resumida.\"\n",
        "\n",
        "**Inteligência artificial -**\n",
        "\n",
        "Em Python, variáveis são “caixinhas” na memória onde você guarda valores para usar depois.\n",
        "Elas servem para armazenar dados e dar um nome a esses dados, para que o código fique mais legível e reutilizável.\n",
        "\n",
        "Como usar\n",
        "\n",
        "Criar/atribuir: você escolhe um nome e usa o operador = para guardar um valor.\n",
        "\n",
        "nome = \"Juliana\"    # String (texto)\n",
        "\n",
        "idade = 25          # Inteiro\n",
        "\n",
        "altura = 1.68       # Número decimal (float)\n",
        "\n",
        "\n",
        "Usar: basta chamar o nome da variável.\n",
        "\n",
        "print(nome)\n",
        "\n",
        "print(idade + 5)\n",
        "\n",
        "\n",
        "Reatribuir: pode mudar o valor a qualquer momento.\n",
        "\n",
        "idade = 26\n",
        "\n",
        "\n",
        "📌 Regras básicas:\n",
        "\n",
        "O nome da variável não pode começar com número.\n",
        "\n",
        "Use letras, números e _ (underline).\n",
        "\n",
        "Python diferencia maiúsculas e minúsculas (idade ≠ Idade).\n",
        "\n",
        "\n",
        "**TIPOS DE DADOS EM PYTHON**\n",
        "\n",
        "\n",
        "Em Python, os tipos de dados são as categorias que definem que tipo de valor uma variável pode armazenar e quais operações podem ser feitas com ela.\n",
        "Aqui vai o resumo dos principais:\n",
        "\n",
        "\n",
        "1. Numéricos\n",
        "\n",
        "int → Números inteiros (10, -5, 0)\n",
        "\n",
        "float → Números decimais (3.14, -2.5, 0.0)\n",
        "\n",
        "complex → Números complexos (2 + 3j)\n",
        "\n",
        "2. Texto\n",
        "\n",
        "str → Cadeias de caracteres, usadas para textos (\"Olá\", 'Python')\n",
        "\n",
        "3. Booleanos\n",
        "\n",
        "bool → Valores lógicos (True ou False)\n",
        "\n",
        "4. Sequências\n",
        "\n",
        "list → Lista mutável ([1, 2, 3])\n",
        "\n",
        "tuple → Lista imutável ((1, 2, 3))\n",
        "\n",
        "range → Sequência de números (range(5))\n",
        "\n",
        "5. Conjuntos\n",
        "\n",
        "set → Conjunto sem valores repetidos e sem ordem ({1, 2, 3})\n",
        "\n",
        "frozenset → Conjunto imutável (frozenset({1, 2, 3}))\n",
        "\n",
        "6. Dicionários\n",
        "\n",
        "dict → Pares chave–valor ({\"nome\": \"Ana\", \"idade\": 25})\n",
        "\n",
        "📌 Dica rápida: para descobrir o tipo de um valor, use type(valor)."
      ],
      "metadata": {
        "id": "SunN44LqYs_v"
      }
    },
    {
      "cell_type": "code",
      "source": [
        "nome = \"João\"\n",
        "idade = 21\n",
        "altura = 1.75\n",
        "print(f\"Nome: \" + nome, \"Idade:\",idade, \"Altura:\",altura)"
      ],
      "metadata": {
        "colab": {
          "base_uri": "https://localhost:8080/"
        },
        "id": "FGJN6s_-W-YP",
        "outputId": "4affcaa1-f67b-4718-aeb2-08f0b198fd68"
      },
      "execution_count": 18,
      "outputs": [
        {
          "output_type": "stream",
          "name": "stdout",
          "text": [
            "Nome: João Idade: 21 Altura: 1.75\n"
          ]
        }
      ]
    },
    {
      "cell_type": "markdown",
      "source": [
        "2.3\n",
        "\n",
        "**Prompt:** \"Como realizar operações aritméticas básicas (soma, subtração, multiplicação, divisão) em Python. Explique cada operação de uma forma resumida, usando exemplos simplificados.\"\n",
        "\n",
        "**Inteligência artificial -**\n",
        "\n",
        ". Soma (+)\n",
        "\n",
        "Adiciona valores.\n",
        "\n",
        "print(3 + 2)  # 5\n",
        "\n",
        "2. Subtração (-)\n",
        "\n",
        "Subtrai um valor de outro.\n",
        "\n",
        "print(5 - 2)  # 3\n",
        "\n",
        "3. Multiplicação (*)\n",
        "\n",
        "Multiplica valores.\n",
        "\n",
        "print(4 * 3)  # 12\n",
        "\n",
        "4. Divisão (/)\n",
        "\n",
        "Divide valores e retorna número decimal (float).\n",
        "\n",
        "print(8 / 2)  # 4.0\n",
        "\n",
        "5. Divisão inteira (//)\n",
        "\n",
        "Divide e retorna apenas a parte inteira do quociente.\n",
        "\n",
        "print(7 // 2)  # 3\n",
        "\n",
        "6. Módulo (%)\n",
        "\n",
        "Retorna o resto da divisão.\n",
        "\n",
        "print(7 % 2)  # 1\n",
        "\n",
        "7. Potenciação (**)\n",
        "\n",
        "Eleva um número à potência de outro.\n",
        "\n",
        "print(2 ** 3)  # 8\n",
        "\n"
      ],
      "metadata": {
        "id": "CnXGJNMYbvcX"
      }
    },
    {
      "cell_type": "code",
      "source": [
        "a = 10\n",
        "b = 5\n",
        "soma = a + b\n",
        "subtracao = a - b\n",
        "multiplicacao = a * b\n",
        "divisao = a / b\n",
        "print (\"Soma:\", soma,\"Subtração:\", subtracao,\"Multiplicação:\", multiplicacao,\"Divisão:\", divisao)"
      ],
      "metadata": {
        "colab": {
          "base_uri": "https://localhost:8080/"
        },
        "id": "BQWuVVk8es4c",
        "outputId": "f371b0ed-56ad-4f02-e79b-d701482e747e"
      },
      "execution_count": 24,
      "outputs": [
        {
          "output_type": "stream",
          "name": "stdout",
          "text": [
            "Soma: 15 Subtração: 5 Multiplicação: 50 Divisão: 2.0\n"
          ]
        }
      ]
    },
    {
      "cell_type": "markdown",
      "source": [
        "3.1\n",
        "\n",
        "**Prompt:** \"Crie um script em Python que peça ao usuário para inserir dois números e uma operação (soma, subtração, multiplicação, divisão) e depois exiba o resultado.\"\n",
        "\n",
        "**Inteligencia artificial -**\n",
        "\n",
        "# Script de calculadora básica\n",
        "\n",
        "# Solicita os números\n",
        "num1 = float(input(\"Digite o primeiro número: \"))\n",
        "\n",
        "num2 = float(input(\"Digite o segundo número: \"))\n",
        "\n",
        "# Solicita a operação\n",
        "operacao = input(\"Digite a operação (+, -, *, /): \")\n",
        "\n",
        "# Realiza a operação\n",
        "\n",
        "\n",
        "if operacao == \"+\":\n",
        "\n",
        "    resultado = num1 + num2\n",
        "\n",
        "elif operacao == \"-\":\n",
        "\n",
        "    resultado = num1 - num2\n",
        "\n",
        "elif operacao == \"*\":\n",
        "\n",
        "    resultado = num1 * num2\n",
        "\n",
        "elif operacao == \"/\":\n",
        "\n",
        "    if num2 != 0:\n",
        "\n",
        "        resultado = num1 / num2\n",
        "\n",
        "    else:\n",
        "\n",
        "        resultado = \"Erro: divisão por zero!\"\n",
        "\n",
        "else:\n",
        "    resultado = \"Operação inválida!\"\n",
        "\n",
        "## print(\"Resultado:\", resultado)"
      ],
      "metadata": {
        "id": "oMbWSW9Cjb-y"
      }
    },
    {
      "cell_type": "code",
      "source": [
        "# Script de calculadora básica\n",
        "\n",
        "# Solicita os números\n",
        "num1 = float(input(\"Digite o primeiro número: \"))\n",
        "num2 = float(input(\"Digite o segundo número: \"))\n",
        "\n",
        "# Solicita a operação\n",
        "operacao = input(\"Digite a operação (+, -, *, /): \")\n",
        "\n",
        "# Realiza a operação\n",
        "if operacao == \"+\":\n",
        "    resultado = num1 + num2\n",
        "elif operacao == \"-\":\n",
        "    resultado = num1 - num2\n",
        "elif operacao == \"*\":\n",
        "    resultado = num1 * num2\n",
        "elif operacao == \"/\":\n",
        "    if num2 != 0:\n",
        "        resultado = num1 / num2\n",
        "    else:\n",
        "        resultado = \"Erro: divisão por zero!\"\n",
        "else:\n",
        "    resultado = \"Operação inválida!\"\n",
        "\n",
        "# Exibe o resultado\n",
        "print(\"Resultado:\", resultado)\n",
        "\n",
        "#RESULTADO DO CHAT FOI REUTILIZADO, POIS SE NÃO TERIA QUE SER FEITO O CÓDIGO DE UMA MANEIRA MUITA BÁSICA E MAIS COMANDOS UTILIZADOS!\n"
      ],
      "metadata": {
        "colab": {
          "base_uri": "https://localhost:8080/"
        },
        "id": "YUP9ZjQnkmlR",
        "outputId": "ece26682-4b33-4313-90dc-8bba80d0d4cf"
      },
      "execution_count": 26,
      "outputs": [
        {
          "output_type": "stream",
          "name": "stdout",
          "text": [
            "Digite o primeiro número: 5\n",
            "Digite o segundo número: 15\n",
            "Digite a operação (+, -, *, /): *\n",
            "Resultado: 75.0\n"
          ]
        }
      ]
    },
    {
      "cell_type": "markdown",
      "source": [
        "3.2\n",
        "\n",
        "**Prompt:** Explique como converter temperaturas de Celsius para Fahrenheit e vice-versa em Python.\n",
        "\n",
        "**Inteligencia artificial -**\n",
        "\n",
        "Conceito\n",
        "\n",
        "Existem várias escalas de temperatura, mas as mais comuns são:\n",
        "\n",
        "Celsius (°C): baseada no ponto de congelamento (0°C) e ebulição da água (100°C).\n",
        "\n",
        "Fahrenheit (°F): usada principalmente nos EUA; ponto de congelamento da água é 32°F e ebulição 212°F.\n",
        "\n",
        "Para converter entre essas escalas, usamos fórmulas matemáticas.\n",
        "\n",
        "Fórmulas\n",
        "\n",
        "Celsius → Fahrenheit:\n",
        "\n",
        "𝐹\n",
        "=\n",
        "𝐶\n",
        "×\n",
        "9/\n",
        "5\n",
        "+\n",
        "32\n",
        "\n",
        "F=\n",
        "C×\n",
        "5\n",
        "9\n",
        "+32\n",
        "\n",
        "Multiplicamos a temperatura em Celsius por 9/5 e somamos 32.\n",
        "\n",
        "\n",
        "\n",
        "Exemplo em Python:\n",
        "\n",
        "celsius = 25\n",
        "\n",
        "fahrenheit = celsius * 9/5 + 32\n",
        "\n",
        "print(f\"{celsius}°C = {fahrenheit}°F\")\n",
        "\n",
        "\n",
        "Saída: 25°C = 77.0°F\n",
        "\n",
        "Fahrenheit → Celsius:\n",
        "\n",
        "𝐶\n",
        "=\n",
        "(\n",
        "𝐹\n",
        "−\n",
        "32\n",
        ")\n",
        "×\n",
        "5\n",
        "9\n",
        "C=(F−32)×\n",
        "9\n",
        "5\n",
        "\t​\n",
        "\n",
        "\n",
        "Subtraímos 32 da temperatura em Fahrenheit e multiplicamos por 5/9.\n",
        "\n",
        "Exemplo em Python:\n",
        "\n",
        "fahrenheit = 77\n",
        "\n",
        "celsius = (fahrenheit - 32) * 5/9\n",
        "\n",
        "print(f\"{fahrenheit}°F = {celsius}°C\")\n",
        "\n",
        "\n",
        "Saída: 77°F = 25.0°C\n",
        "\n",
        "Em Python interativo\n",
        "\n",
        "Podemos pedir para o usuário informar a temperatura e a escala e fazer a\n",
        "\n",
        "conversão automaticamente usando input() e if:\n",
        "\n",
        "temp = float(input(\"Digite a temperatura: \"))\n",
        "\n",
        "escala = input(\"Digite a escala atual (C/F): \").upper()\n",
        "\n",
        "if escale == \"C\":\n",
        "\n",
        "    f = temp * 9/5 + 32\n",
        "\n",
        "    print(f\"{temp}°C = {f}°F\")\n",
        "\n",
        "elif escale == \"F\":\n",
        "\n",
        "    c = (temp - 32) * 5/9\n",
        "\n",
        "    print(f\"{temp}°F = {c}°C\")\n",
        "\n",
        "\n",
        "else:\n",
        "\n",
        "    print(\"Escala inválida!\")"
      ],
      "metadata": {
        "id": "pfjQGb23oeUY"
      }
    },
    {
      "cell_type": "code",
      "source": [
        "temp = float(input(\"Digite a temperatura: \"))\n",
        "escala = input(\"Digite a escala atual (C/F): \").upper()\n",
        "\n",
        "if escala == \"C\":\n",
        "    f = temp * 9/5 + 32\n",
        "    print(f\"{temp}°C = {f}°F\")\n",
        "elif escala == \"F\":\n",
        "    c = (temp - 32) * 5/9\n",
        "    print(f\"{temp}°F = {c}°C\")\n",
        "else:\n",
        "    print(\"Escala inválida!\")\n"
      ],
      "metadata": {
        "colab": {
          "base_uri": "https://localhost:8080/"
        },
        "id": "zVr1R3MhqR5v",
        "outputId": "fc429a9e-b3c3-4da7-9ac8-8b3c643418f1"
      },
      "execution_count": 32,
      "outputs": [
        {
          "output_type": "stream",
          "name": "stdout",
          "text": [
            "Digite a temperatura: 36\n",
            "Digite a escala atual (C/F): c\n",
            "36.0°C = 96.8°F\n"
          ]
        }
      ]
    },
    {
      "cell_type": "markdown",
      "source": [
        "3.2\n",
        "\n",
        "**Prompt:** \"Dicas de manipulação de String em python.\"\n",
        "\n",
        "**Inteligencia artificial -**\n",
        "\n",
        "1️⃣ Concatenar strings\n",
        "\n",
        "Juntar textos usando +:\n",
        "\n",
        "nome = \"João\"\n",
        "\n",
        "sobrenome = \"Silva\"\n",
        "\n",
        "print(nome + \" \" + sobrenome)  # João Silva\n",
        "\n",
        "2️⃣ Repetir strings\n",
        "\n",
        "Usar * para repetir:\n",
        "\n",
        "print(\"Hi! \" * 3)  # Hi! Hi! Hi!\n",
        "\n",
        "3️⃣ Acessar caracteres (indexação)\n",
        "\n",
        "Cada caractere tem uma posição (começa em 0):\n",
        "\n",
        "texto = \"Python\"\n",
        "\n",
        "print(texto[0])   # P\n",
        "\n",
        "print(texto[-1])  # n (último caractere)\n",
        "\n",
        "4️⃣ Fatiar strings (slicing)\n",
        "\n",
        "Pegar partes do texto:\n",
        "\n",
        "texto = \"Python\"\n",
        "\n",
        "print(texto[0:4])  # Pyth (posição 0 até 3)\n",
        "\n",
        "print(texto[2:])   # thon (da posição 2 até o fim)\n",
        "\n",
        "5️⃣ Alterar maiúsculas/minúsculas\n",
        "\n",
        "texto = \"python\"\n",
        "\n",
        "print(texto.upper())  # PYTHON\n",
        "\n",
        "print(texto.lower())  # python\n",
        "\n",
        "print(texto.title())  # Python\n",
        "\n",
        "6️⃣ Remover espaços\n",
        "\n",
        "texto = \"   Olá Python   \"\n",
        "\n",
        "print(texto.strip())  # \"Olá Python\" (remove início/fim)"
      ],
      "metadata": {
        "id": "5HR3UeDE9OJw"
      }
    },
    {
      "cell_type": "code",
      "source": [
        "frase = input(\"Digite uma frase: \")\n",
        "\n",
        "palavras = frase.strip().split()\n",
        "\n",
        "numero_palavras = len(palavras)\n",
        "\n",
        "print(f\"A frase tem {numero_palavras} palavra(s).\")"
      ],
      "metadata": {
        "colab": {
          "base_uri": "https://localhost:8080/"
        },
        "id": "6DOCaRj6-gSW",
        "outputId": "770685f8-9c80-4258-c93c-f651ca6260ea"
      },
      "execution_count": 33,
      "outputs": [
        {
          "output_type": "stream",
          "name": "stdout",
          "text": [
            "Digite uma frase: Livro\n",
            "A frase tem 1 palavra(s).\n"
          ]
        }
      ]
    },
    {
      "cell_type": "markdown",
      "source": [
        "3.4\n",
        "\n",
        "**Ideia de complementação da matéria de gestão de projeto**\n",
        "\n",
        "*CIDADE FÁCIL*\n",
        "\n",
        "O script tem como objetivo fornecer duas funcionalidades principais para os usuários da cidade:\n",
        "\n",
        "Localizar pontos de coleta de entulho.\n",
        "\n",
        "Cadastrar e visualizar freelancers que prestam serviços diversos.\n",
        "\n",
        "*Funcionalidades Implementadas*\n",
        "\n",
        "*Localização de pontos de coleta:*\n",
        "\n",
        "Exibe uma lista de bairros e seus respectivos endereços de coleta de entulho.\n",
        "\n",
        "Dados armazenados em um dicionário (pontos_coleta).\n",
        "\n",
        "*Cadastro de freelancers:*\n",
        "\n",
        "Solicita nome e área de atuação do usuário.\n",
        "\n",
        "Armazena os dados em uma lista de dicionários (freelancers_cadastrados).\n",
        "\n",
        "Permite consultar a lista de freelancers cadastrados.\n",
        "\n",
        "*Menu interativo:*\n",
        "\n",
        "Permite ao usuário navegar entre as opções: localizar pontos, cadastrar freelancer, listar freelancers ou sair do sistema.\n",
        "\n",
        "Implementado com loop while para manter a interação contínua até a saída."
      ],
      "metadata": {
        "id": "JL1jmXN4_bmW"
      }
    },
    {
      "cell_type": "code",
      "source": [
        "pontos_coleta = {\n",
        "    \"Centro\": \"Rua A, nº 123\",\n",
        "    \"Bairro Jardim\": \"Av. das Flores, nº 45\",\n",
        "    \"Vila Nova\": \"Rua das Palmeiras, nº 10\"\n",
        "}\n",
        "\n",
        "freelancers_cadastrados = []\n",
        "\n",
        "def localizar_pontos():\n",
        "    print(\"\\nPontos de coleta de entulho disponíveis:\")\n",
        "    for bairro, endereco in pontos_coleta.items():\n",
        "        print(f\"{bairro}: {endereco}\")\n",
        "\n",
        "def cadastrar_freelancer():\n",
        "    nome = input(\"Digite seu nome: \")\n",
        "    area = input(\"Digite sua área de atuação: \")\n",
        "    freelancer = {\"nome\": nome, \"area\": area}\n",
        "    freelancers_cadastrados.append(freelancer)\n",
        "    print(f\"Cadastro realizado com sucesso! Bem-vindo(a), {nome}.\")\n",
        "\n",
        "# Menu principal\n",
        "while True:\n",
        "    print(\"\\n=== Sistema da Cidade ===\")\n",
        "    print(\"1 - Localizar pontos de coleta de entulho\")\n",
        "    print(\"2 - Cadastrar como freelancer\")\n",
        "    print(\"3 - Listar freelancers cadastrados\")\n",
        "    print(\"0 - Sair\")\n",
        "\n",
        "    escolha = input(\"Escolha uma opção: \")\n",
        "\n",
        "    if escolha == \"1\":\n",
        "        localizar_pontos()\n",
        "    elif escolha == \"2\":\n",
        "        cadastrar_freelancer()\n",
        "    elif escolha == \"3\":\n",
        "        print(\"\\nFreelancers cadastrados:\")\n",
        "        for f in freelancers_cadastrados:\n",
        "            print(f\"{f['nome']} - {f['area']}\")\n",
        "    elif escolha == \"0\":\n",
        "        print(\"Saindo do sistema...\")\n",
        "        break\n",
        "    else:\n",
        "        print(\"Opção inválida! Tente novamente.\")"
      ],
      "metadata": {
        "collapsed": true,
        "id": "ufdZ--MpAwN1"
      },
      "execution_count": null,
      "outputs": []
    },
    {
      "cell_type": "markdown",
      "source": [
        "4.1\n",
        "\n",
        "*Reflexão do uso do ChatGPT*\n",
        "\n",
        "Analisando o decorrer da execução desta atividade, podemos concluir que a importância maior está relacionado na formulação de seu prompt, coma informações necessárias e diretas para que a Inteligência consiga interpretar de uma forma clara e não de uma maneira vaga.\n",
        "\n",
        "Da maneira em que consegui executar o Chat, foi bem claro, pois interpretaram de uma forma clara e direta, me retornando de uma forma limpa e documentado os passos a passos e comentados. Eu identificava que tinha algumas dificuldades na estruturação dos comandos, com a ajuda do aplicativo e da forma em que mostraram as resposta, ficou mais claro, podendo trazer as lembranças/ estudos que estavam vagos no momento."
      ],
      "metadata": {
        "id": "MIr2wZmSBHve"
      }
    }
  ]
}